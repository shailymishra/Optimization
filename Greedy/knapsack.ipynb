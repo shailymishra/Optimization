{
 "cells": [
  {
   "cell_type": "code",
   "execution_count": 1,
   "metadata": {},
   "outputs": [
    {
     "name": "stdout",
     "output_type": "stream",
     "text": [
      "Use greedy by value to allocate 750 calories\n",
      "Total value of items taken = 284.0\n",
      "     burger: <100, 354>\n",
      "     pizza: <95, 258>\n",
      "     wine: <89, 123>\n",
      "\n",
      "Use greedy by cost to allocate 750 calories\n",
      "Total value of items taken = 318.0\n",
      "     apple: <50, 95>\n",
      "     wine: <89, 123>\n",
      "     cola: <79, 150>\n",
      "     beer: <90, 154>\n",
      "     donut: <10, 195>\n",
      "\n",
      "Use greedy by density to allocate 750 calories\n",
      "Total value of items taken = 318.0\n",
      "     wine: <89, 123>\n",
      "     beer: <90, 154>\n",
      "     cola: <79, 150>\n",
      "     apple: <50, 95>\n",
      "     donut: <10, 195>\n"
     ]
    }
   ],
   "source": [
    "class Food(object):\n",
    "    def __init__(self, n, v, w):\n",
    "        self.name = n\n",
    "        self.value = v\n",
    "        self.calories = w\n",
    "\n",
    "    def getValue(self):\n",
    "        return self.value\n",
    "\n",
    "    def getCost(self):\n",
    "        return self.calories\n",
    "\n",
    "    def density(self):\n",
    "        return self.getValue() / self.getCost()\n",
    "\n",
    "    def __str__(self):\n",
    "        return self.name + ': <' + str(self.value) + ', ' + str(self.calories) + '>'\n",
    "\n",
    "def buildMenu(names, values, calories):\n",
    "    \"\"\"names, values, calories lists of same length.\n",
    "    name a list of strings\n",
    "    values and calories lists of numbers\n",
    "    returns list of Foods\"\"\"\n",
    "    menu = []\n",
    "    for i in range(len(values)):\n",
    "        menu.append(Food(names[i], values[i], calories[i]))\n",
    "    return menu\n",
    "\n",
    "def greedy(items, maxCost, keyFunction):\n",
    "    itemsCopy = sorted(items, key=keyFunction, reverse=True)\n",
    "    result = []\n",
    "    totalValue, totalCost = 0.0, 0.0\n",
    "\n",
    "    for i in range(len(itemsCopy)):\n",
    "        if (totalCost + itemsCopy[i].getCost()) <= maxCost:\n",
    "            result.append(itemsCopy[i])\n",
    "            totalCost += itemsCopy[i].getCost()\n",
    "            totalValue += itemsCopy[i].getValue()\n",
    "    return (result, totalValue)\n",
    "\n",
    "def testGreedy(items, constraint, keyFunction):\n",
    "    taken, val = greedy(items, constraint, keyFunction)\n",
    "    print('Total value of items taken =', val)\n",
    "    for item in taken:\n",
    "        print('    ', item)\n",
    "\n",
    "def testGreedys(foods, maxUnits):\n",
    "    print('Use greedy by value to allocate', maxUnits, 'calories')\n",
    "    testGreedy(foods, maxUnits, Food.getValue)\n",
    "    print('\\nUse greedy by cost to allocate', maxUnits, 'calories')\n",
    "    testGreedy(foods, maxUnits, lambda x: 1/Food.getCost(x))\n",
    "    print('\\nUse greedy by density to allocate', maxUnits, 'calories')\n",
    "    testGreedy(foods, maxUnits, Food.density)\n",
    "\n",
    "names = ['wine', 'beer', 'pizza', 'burger', 'fries', 'cola', 'apple', 'donut', 'cake']\n",
    "values = [89, 90, 95, 100, 90, 79, 50, 10]\n",
    "calories = [123, 154, 258, 354, 365, 150, 95, 195]\n",
    "foods = buildMenu(names, values, calories)\n",
    "testGreedys(foods, 750)\n"
   ]
  },
  {
   "cell_type": "code",
   "execution_count": 3,
   "metadata": {},
   "outputs": [],
   "source": [
    "def maxVal(toConsider, avail):\n",
    "    if toConsider == [] or avail == 0:\n",
    "        result = (0, ())\n",
    "    elif toConsider[0].getCost() > avail:\n",
    "        result = maxVal(toConsider[1:], avail)\n",
    "    else:\n",
    "        nextItem = toConsider[0]\n",
    "        withVal, withToTake = maxVal(toConsider[1:], avail - nextItem.getCost())\n",
    "        withVal += nextItem.getValue()\n",
    "        withoutVal, withoutToTake = maxVal(toConsider[1:], avail)\n",
    "        if withVal > withoutVal:\n",
    "            result = (withVal, withToTake + (nextItem,))\n",
    "        else:\n",
    "            result = (withoutVal, withoutToTake)\n",
    "    return result\n",
    "\n",
    "def testMaxVal(foods, maxUnits, printItems=True):\n",
    "    print('Use search tree to allocate', maxUnits, 'calories')\n",
    "    val, taken = maxVal(foods, maxUnits)\n",
    "    print('Total value of items taken =', val)\n",
    "    if printItems:\n",
    "        for item in taken:\n",
    "            print('    ', item)"
   ]
  },
  {
   "cell_type": "code",
   "execution_count": 4,
   "metadata": {},
   "outputs": [
    {
     "name": "stdout",
     "output_type": "stream",
     "text": [
      "Use greedy by value to allocate 750 calories\n",
      "Total value of items taken = 284.0\n",
      "     burger: <100, 354>\n",
      "     pizza: <95, 258>\n",
      "     wine: <89, 123>\n",
      "\n",
      "Use greedy by cost to allocate 750 calories\n",
      "Total value of items taken = 318.0\n",
      "     apple: <50, 95>\n",
      "     wine: <89, 123>\n",
      "     cola: <79, 150>\n",
      "     beer: <90, 154>\n",
      "     donut: <10, 195>\n",
      "\n",
      "Use greedy by density to allocate 750 calories\n",
      "Total value of items taken = 328.0\n",
      "     wine: <89, 123>\n",
      "     beer: <90, 154>\n",
      "     cola: <79, 150>\n",
      "     apple: <50, 95>\n",
      "     cake: <20, 200>\n",
      "\n",
      "Use search tree to allocate 750 calories\n",
      "Total value of items taken = 353\n",
      "     cola: <79, 150>\n",
      "     pizza: <95, 258>\n",
      "     beer: <90, 154>\n",
      "     wine: <89, 123>\n"
     ]
    }
   ],
   "source": [
    "names = ['wine', 'beer', 'pizza', 'burger', 'fries', 'cola', 'apple', 'donut', 'cake']\n",
    "values = [89, 90, 95, 100, 90, 79, 50, 10, 20]  # Added a value for 'cake'\n",
    "calories = [123, 154, 258, 354, 365, 150, 95, 195, 200]  # Added calories for 'cake'\n",
    "foods = buildMenu(names, values, calories)\n",
    "testGreedys(foods, 750)\n",
    "print('')\n",
    "testMaxVal(foods, 750)"
   ]
  },
  {
   "cell_type": "code",
   "execution_count": 5,
   "metadata": {},
   "outputs": [
    {
     "name": "stdout",
     "output_type": "stream",
     "text": [
      "Use search tree to allocate 750 calories\n",
      "Total value of items taken = 259\n",
      "Use search tree to allocate 750 calories\n",
      "Total value of items taken = 361\n",
      "Use search tree to allocate 750 calories\n",
      "Total value of items taken = 459\n",
      "Use search tree to allocate 750 calories\n",
      "Total value of items taken = 535\n",
      "Use search tree to allocate 750 calories\n",
      "Total value of items taken = 891\n",
      "Use search tree to allocate 750 calories\n",
      "Total value of items taken = 653\n",
      "Use search tree to allocate 750 calories\n",
      "Total value of items taken = 763\n",
      "Use search tree to allocate 750 calories\n"
     ]
    }
   ],
   "source": [
    "import random\n",
    "\n",
    "def buildLargeMenu(numItems, maxVal, maxCost):\n",
    "    items = []\n",
    "    for i in range(numItems):\n",
    "        items.append(Food(str(i), random.randint(1, maxVal), random.randint(1, maxCost)))\n",
    "    return items\n",
    "\n",
    "for numItems in (5, 10, 15, 20, 25, 30, 35, 40, 45, 50, 55, 60):\n",
    "    items = buildLargeMenu(numItems, 90, 250)\n",
    "    testMaxVal(items, 750, False)\n"
   ]
  },
  {
   "cell_type": "code",
   "execution_count": null,
   "metadata": {},
   "outputs": [],
   "source": []
  }
 ],
 "metadata": {
  "kernelspec": {
   "display_name": "Python 3",
   "language": "python",
   "name": "python3"
  },
  "language_info": {
   "codemirror_mode": {
    "name": "ipython",
    "version": 3
   },
   "file_extension": ".py",
   "mimetype": "text/x-python",
   "name": "python",
   "nbconvert_exporter": "python",
   "pygments_lexer": "ipython3",
   "version": "3.10.11"
  }
 },
 "nbformat": 4,
 "nbformat_minor": 2
}
